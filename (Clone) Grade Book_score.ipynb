{
 "cells": [
  {
   "cell_type": "code",
   "execution_count": 0,
   "metadata": {
    "application/vnd.databricks.v1+cell": {
     "cellMetadata": {
      "byteLimit": 2048000,
      "rowLimit": 10000
     },
     "inputWidgets": {},
     "nuid": "14c90e1b-a4d6-4dd9-a683-7199b362f689",
     "showTitle": false,
     "tableResultSettingsMap": {},
     "title": ""
    }
   },
   "outputs": [],
   "source": [
    "jobid = 2\n",
    "jobid_array=(38,49,jobid)\n",
    "\n"
   ]
  },
  {
   "cell_type": "code",
   "execution_count": 0,
   "metadata": {
    "application/vnd.databricks.v1+cell": {
     "cellMetadata": {},
     "inputWidgets": {},
     "nuid": "863038ef-9eb5-47b7-9058-369125126443",
     "showTitle": false,
     "tableResultSettingsMap": {},
     "title": ""
    }
   },
   "outputs": [],
   "source": [
    "%sql\n",
    "----CREATING DATABRICKS_LOGS TABLE\n",
    "\n",
    "CREATE TABLE databricks_logs(\n",
    "  \n",
    ")"
   ]
  },
  {
   "cell_type": "code",
   "execution_count": 0,
   "metadata": {
    "application/vnd.databricks.v1+cell": {
     "cellMetadata": {
      "byteLimit": 2048000,
      "implicitDf": true,
      "rowLimit": 10000
     },
     "inputWidgets": {},
     "nuid": "42cc7e0f-1c70-4b1d-9fd5-a870e8912fe4",
     "showTitle": false,
     "tableResultSettingsMap": {},
     "title": ""
    }
   },
   "outputs": [],
   "source": [
    "%sql\n",
    "---creating a table TEST_RECORD_TABLE\n",
    "\n",
    "CREATE TABLE IF NOT EXISTS QB_TEST_RECORDS(\n",
    "  TEST_RECORD_ID INT,\n",
    "  USER_ID INT,\n",
    "  DATE_CREATED TIMESTAMP,\n",
    "  TOTAL_QUESTIONS SMALLINT,\n",
    "  TOTAL_CORRECT_QUESTIONS SMALLINT,\n",
    "  TOTAL_INCORRECT_QUESTIONS SMALLINT,\n",
    "  TOTAL_OMITTED_QUESTIONS SMALLINT,\n",
    "  GROUP_ID INT,\n",
    "  STUDENT_ID INT,\n",
    "  IS_ENDED BOOLEAN\n",
    "\n",
    ")"
   ]
  },
  {
   "cell_type": "code",
   "execution_count": 0,
   "metadata": {
    "application/vnd.databricks.v1+cell": {
     "cellMetadata": {
      "byteLimit": 2048000,
      "rowLimit": 10000
     },
     "inputWidgets": {},
     "nuid": "c341382b-7528-4267-8eef-5dc277057861",
     "showTitle": false,
     "tableResultSettingsMap": {},
     "title": ""
    }
   },
   "outputs": [],
   "source": [
    "s=\"srikanth\""
   ]
  },
  {
   "cell_type": "code",
   "execution_count": 0,
   "metadata": {
    "application/vnd.databricks.v1+cell": {
     "cellMetadata": {
      "byteLimit": 2048000,
      "implicitDf": true,
      "rowLimit": 10000
     },
     "inputWidgets": {},
     "nuid": "2dbd1d20-c249-4f58-9733-6cc96111e19a",
     "showTitle": false,
     "tableResultSettingsMap": {},
     "title": ""
    }
   },
   "outputs": [],
   "source": [
    "%sql\n",
    "INSERT INTO qb_test_records\n",
    "VALUES\n",
    "(110, 424356, CURRENT_TIMESTAMP(), 7, 3, 2, 2, 48795, 27897, 1),\n",
    "(111, 424356, CURRENT_TIMESTAMP(), 16, 0, 0, 0, 48795, 27897, 0),\n",
    "(112, 424356, CURRENT_TIMESTAMP(), 20, 0, 0, 0, 48795, 27897, 0)"
   ]
  },
  {
   "cell_type": "code",
   "execution_count": 0,
   "metadata": {
    "application/vnd.databricks.v1+cell": {
     "cellMetadata": {},
     "inputWidgets": {},
     "nuid": "5b3d13ad-7718-4c35-9dcf-cb58cdecd45b",
     "showTitle": false,
     "tableResultSettingsMap": {},
     "title": ""
    }
   },
   "outputs": [],
   "source": [
    "%sql\n",
    "CREATE TABLE STUDENT_GRADEBOOK_SCORE(\n",
    "  \n",
    ")"
   ]
  }
 ],
 "metadata": {
  "application/vnd.databricks.v1+notebook": {
   "computePreferences": null,
   "dashboards": [],
   "environmentMetadata": {
    "base_environment": "",
    "environment_version": "2"
   },
   "inputWidgetPreferences": null,
   "language": "python",
   "notebookMetadata": {
    "mostRecentlyExecutedCommandWithImplicitDF": {
     "commandId": 6887360692274214,
     "dataframes": [
      "_sqldf"
     ]
    },
    "pythonIndentUnit": 4
   },
   "notebookName": "(Clone) Grade Book_score",
   "widgets": {}
  },
  "language_info": {
   "name": "python"
  }
 },
 "nbformat": 4,
 "nbformat_minor": 0
}
